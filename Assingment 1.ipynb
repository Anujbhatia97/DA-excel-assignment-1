{
 "cells": [
  {
   "cell_type": "code",
   "execution_count": null,
   "id": "69647445",
   "metadata": {},
   "outputs": [],
   "source": [
    "Q1 What do you mean by cells in an excel sheet?\n",
    "Ans A cell is a rectangular area formed by the intersection of a column and a row. Cells are identified by the Cell Name (or Reference, which is found by combining the Column Letter with the Row Number"
   ]
  },
  {
   "cell_type": "code",
   "execution_count": null,
   "id": "6af13bc4",
   "metadata": {},
   "outputs": [],
   "source": [
    "Q2. Q2. How can you restrict someone from copying a cell from your worksheet\n",
    "Ans ns In order to protect your worksheet from getting copied, you need to go into Menu bar >Review > Protect sheet > Password. By entering password, you can secure your worksheet from getting copied by others."
   ]
  },
  {
   "cell_type": "code",
   "execution_count": null,
   "id": "db6dc9ef",
   "metadata": {},
   "outputs": [],
   "source": [
    "Q3. How to move or copy the worksheet into another workbook?\n",
    "Ans 1. Copy Excel sheet by dragging\n",
    "    2. Duplicate a sheet by right-clicking\n",
    "    3. Copy a tab in Excel using the ribbon"
   ]
  },
  {
   "cell_type": "code",
   "execution_count": null,
   "id": "0a58534f",
   "metadata": {},
   "outputs": [],
   "source": [
    "Q4.Which key is used as a shortcut for opening a new window document?\n",
    "Ans Ctrl + N"
   ]
  },
  {
   "cell_type": "code",
   "execution_count": null,
   "id": "ec202c59",
   "metadata": {},
   "outputs": [],
   "source": [
    "Q5 What are the things that we can notice after opening the Excel interface?\n",
    "Ans The main features of MS Excel include inserting a pivot table, sorting of tabulated data, adding formulas to the sheet, and calculating large data."
   ]
  },
  {
   "cell_type": "code",
   "execution_count": null,
   "id": "ddd986b7",
   "metadata": {},
   "outputs": [],
   "source": [
    "Q6 When to use a relative cell reference in excel?\n",
    "Ans Relative references are used when we want to perform a similar operation on multiple cells and the formula must change according to the relative address of column and row. For example, We want to add the marks of two subjects entered in column A and column B and display the result in column C"
   ]
  }
 ],
 "metadata": {
  "kernelspec": {
   "display_name": "Python 3 (ipykernel)",
   "language": "python",
   "name": "python3"
  },
  "language_info": {
   "codemirror_mode": {
    "name": "ipython",
    "version": 3
   },
   "file_extension": ".py",
   "mimetype": "text/x-python",
   "name": "python",
   "nbconvert_exporter": "python",
   "pygments_lexer": "ipython3",
   "version": "3.9.7"
  }
 },
 "nbformat": 4,
 "nbformat_minor": 5
}
